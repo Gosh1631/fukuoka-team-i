{
 "cells": [
  {
   "cell_type": "code",
   "execution_count": 121,
   "metadata": {},
   "outputs": [],
   "source": [
    "#必要ライブラリのインポート\n",
    "import cv2\n",
    "import math"
   ]
  },
  {
   "cell_type": "code",
   "execution_count": 117,
   "metadata": {},
   "outputs": [],
   "source": [
    "#画像を切り抜く関数を定義\n",
    "def cut(in_img):\n",
    "    for i in range(10):\n",
    "        for j in range (10):\n",
    "            img = cv2.imread('coin_out/%s/%d%d.jpg'%(in_img,i,j))\n",
    "\n",
    "            gray_img = cv2.cvtColor(img, cv2.COLOR_RGB2GRAY)\n",
    "            gray_img = cv2.GaussianBlur(gray_img, (7,7), 0)\n",
    "            ret, bw_img = cv2.threshold(gray_img, 0, 255, cv2.THRESH_OTSU)\n",
    "\n",
    "            imgEdge, contours, hierarchy = cv2.findContours(bw_img, cv2.RETR_EXTERNAL, cv2.CHAIN_APPROX_SIMPLE)\n",
    "\n",
    "            ROUNDNESS_THRESH = 0.9\n",
    "            coin_list = []\n",
    "            for contour in contours:\n",
    "                x, y, width, height = cv2.boundingRect(contour)\n",
    "                area = cv2.contourArea(contour)\n",
    "                longAx = width\n",
    "                if (width < height):\n",
    "                    longAx = height\n",
    "                roundness = (4*area)/(math.pi*(longAx**2)) # it seems like a circle closer to 1.0\n",
    "\n",
    "                if (roundness > ROUNDNESS_THRESH):\n",
    "                    coin_list.append(roundness)\n",
    "                    topleft = x\n",
    "                    cv2.imwrite('coin_out/%s/%d%d.jpg'%(in_img,i,j), img[y:y+longAx, x:x+longAx])\n",
    "                    cv2.rectangle(img, (x, y), (x+width, y+height), (0, 0, 200), 2)"
   ]
  },
  {
   "cell_type": "code",
   "execution_count": 100,
   "metadata": {},
   "outputs": [],
   "source": [
    "#回転をする関数を定義\n",
    "def rot(in_img):\n",
    "    for i in range(10):\n",
    "        img = cv2.imread('coin/%s/%d.jpg'%(in_img,i))\n",
    "        height = img.shape[0]                         \n",
    "        width = img.shape[1]  \n",
    "        center = (int(width/2), int(height/2))\n",
    "        scale = 1.0\n",
    "\n",
    "        for j in range(10):\n",
    "            angle = 36*j\n",
    "            trans = cv2.getRotationMatrix2D(center, angle , scale)\n",
    "            rot_img = cv2.warpAffine(img, trans, (width,height))\n",
    "            cv2.imwrite('coin_out/%s/%d%d.jpg'%(in_img,i,j),rot_img)"
   ]
  },
  {
   "cell_type": "code",
   "execution_count": 119,
   "metadata": {},
   "outputs": [],
   "source": [
    "#リサイズ関数を定義\n",
    "def resize(in_img):\n",
    "    for i in range(10):\n",
    "        for j in range (10):\n",
    "            img = cv2.imread('coin_out/%s/%d%d.jpg'%(in_img,i,j))\n",
    "            img2 = cv2.resize(img , (128, 128))\n",
    "            cv2.imwrite('coin_out_128/%s/%d%d.jpg'%(in_img,i,j), img2)"
   ]
  },
  {
   "cell_type": "code",
   "execution_count": 116,
   "metadata": {},
   "outputs": [
    {
     "name": "stdout",
     "output_type": "stream",
     "text": [
      "1円の回転終了\n",
      "5円の回転終了\n",
      "10円の回転終了\n",
      "50円の回転終了\n",
      "100円の回転終了\n",
      "500円の回転終了\n"
     ]
    }
   ],
   "source": [
    "#回転\n",
    "coin = [1, 5, 10, 50, 100, 500]\n",
    "for i in coin:\n",
    "    rot('%dyen'%i)\n",
    "    print('%d円の回転終了'%i)"
   ]
  },
  {
   "cell_type": "code",
   "execution_count": 118,
   "metadata": {},
   "outputs": [
    {
     "name": "stdout",
     "output_type": "stream",
     "text": [
      "1円の切り抜き終了\n",
      "5円の切り抜き終了\n",
      "10円の切り抜き終了\n",
      "50円の切り抜き終了\n",
      "100円の切り抜き終了\n",
      "500円の切り抜き終了\n"
     ]
    }
   ],
   "source": [
    "#切り抜き\n",
    "for i in coin:\n",
    "    cut('%dyen'%i)\n",
    "    print('%d円の切り抜き終了'%i)"
   ]
  },
  {
   "cell_type": "code",
   "execution_count": 120,
   "metadata": {},
   "outputs": [
    {
     "name": "stdout",
     "output_type": "stream",
     "text": [
      "1円のリサイズ終了\n",
      "5円のリサイズ終了\n",
      "10円のリサイズ終了\n",
      "50円のリサイズ終了\n",
      "100円のリサイズ終了\n",
      "500円のリサイズ終了\n"
     ]
    }
   ],
   "source": [
    "#リサイズ\n",
    "for i in coin:\n",
    "    resize('%dyen'%i)\n",
    "    print('%d円のリサイズ終了'%i)"
   ]
  }
 ],
 "metadata": {
  "kernelspec": {
   "display_name": "Python 3",
   "language": "python",
   "name": "python3"
  },
  "language_info": {
   "codemirror_mode": {
    "name": "ipython",
    "version": 3
   },
   "file_extension": ".py",
   "mimetype": "text/x-python",
   "name": "python",
   "nbconvert_exporter": "python",
   "pygments_lexer": "ipython3",
   "version": "3.6.5"
  }
 },
 "nbformat": 4,
 "nbformat_minor": 2
}
