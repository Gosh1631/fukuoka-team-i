{
 "cells": [
  {
   "cell_type": "code",
   "execution_count": 64,
   "metadata": {},
   "outputs": [
    {
     "name": "stdout",
     "output_type": "stream",
     "text": [
      "25 786 5 5\n",
      "850 603 7 9\n",
      "220 474 2 1\n",
      "63 304 1 1\n",
      "985 289 5 4\n",
      "1169 270 8 5\n",
      "283 89 630 607\n",
      "number of coins detected :  1\n",
      "coin average roundness :  0.9605596293274119\n",
      "[0.9605596293274119]\n"
     ]
    }
   ],
   "source": [
    "import cv2\n",
    "import math\n",
    "\n",
    "if __name__ == \"__main__\":\n",
    "    # input image\n",
    "    img = cv2.imread(\"./sample.jpg\")\n",
    "\n",
    "    # convert gray scale image\n",
    "    gray_img = cv2.cvtColor(img, cv2.COLOR_RGB2GRAY)\n",
    "\n",
    "    # gaussian\n",
    "    gray_img = cv2.GaussianBlur(gray_img, (7,7), 0)\n",
    "    #ret, bw_img = cv2.threshold(gray_img, 20, 255, cv2.THRESH_BINARY_INV)\n",
    "    ret, bw_img = cv2.threshold(gray_img, 0, 255, cv2.THRESH_OTSU)\n",
    "\n",
    "    # invert black white (when use cv2.THRESH_OTSU)\n",
    "    #bw_img = cv2.bitwise_not(bw_img)\n",
    "\n",
    "    cv2.imwrite(\"black_white.jpg\", bw_img)\n",
    "\n",
    "    imgEdge, contours, hierarchy = cv2.findContours(bw_img, cv2.RETR_EXTERNAL, cv2.CHAIN_APPROX_SIMPLE)\n",
    "\n",
    "    #ROUNDNESS_THRESH = 0.5\n",
    "    ROUNDNESS_THRESH = 0.9\n",
    "    ASPECT_THRESH = 0.90\n",
    "    COIN_AREA = 100000.0\n",
    "    COIN_AREA_RATIO_THRESH = 0.5\n",
    "    coin_list = []\n",
    "    for contour in contours:\n",
    "        # get circumscribed quadrangle\n",
    "        x, y, width, height = cv2.boundingRect(contour)\n",
    "        print(x, y, width, height)\n",
    "        \n",
    "#         coin_list.append(roundness)\n",
    "#         topleft = x\n",
    "#         cv2.imwrite(\"result%d.jpg\"%len(coin_list), img[y:y+height, x:x+width])\n",
    "#         cv2.rectangle(img, (x, y), (x+width, y+height), (0, 0, 200), 2)\n",
    "        \n",
    "#         # check aspect ratio\n",
    "#         aspect_ratio = float(width) / float(height)\n",
    "#         if (aspect_ratio < ASPECT_THRESH):\n",
    "#             continue\n",
    "\n",
    "#         # check area\n",
    "#         area = cv2.contourArea(contour)\n",
    "#         area_ratio = abs(float(1 - (area / COIN_AREA)))\n",
    "#         if (area != 0 and area_ratio > COIN_AREA_RATIO_THRESH):\n",
    "#             continue\n",
    "\n",
    "        area = cv2.contourArea(contour)\n",
    "        # detect long axis\n",
    "        longAx = width\n",
    "        if (width < height):\n",
    "            longAx = height\n",
    "        # calculate roundness value\n",
    "        roundness = (4*area)/(math.pi*(longAx**2)) # it seems like a circle closer to 1.0\n",
    "\n",
    "        if (roundness > ROUNDNESS_THRESH):\n",
    "            coin_list.append(roundness)\n",
    "            topleft = x\n",
    "            cv2.imwrite(\"result%d.jpg\"%len(coin_list), img[y:y+height, x:x+width])\n",
    "            cv2.rectangle(img, (x, y), (x+width, y+height), (0, 0, 200), 2)\n",
    "\n",
    "    print(\"number of coins detected : \", len(coin_list))\n",
    "    print(\"coin average roundness : \", sum(coin_list)/len(coin_list))\n",
    "    cv2.imwrite(\"coin_result.jpg\", img)\n",
    "    print(coin_list)"
   ]
  }
 ],
 "metadata": {
  "kernelspec": {
   "display_name": "Python 3",
   "language": "python",
   "name": "python3"
  },
  "language_info": {
   "codemirror_mode": {
    "name": "ipython",
    "version": 3
   },
   "file_extension": ".py",
   "mimetype": "text/x-python",
   "name": "python",
   "nbconvert_exporter": "python",
   "pygments_lexer": "ipython3",
   "version": "3.6.5"
  }
 },
 "nbformat": 4,
 "nbformat_minor": 2
}
