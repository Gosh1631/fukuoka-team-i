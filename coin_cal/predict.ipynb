{
 "cells": [
  {
   "cell_type": "code",
   "execution_count": 2,
   "metadata": {},
   "outputs": [],
   "source": [
    "import cv2\n",
    "import numpy as np\n",
    "from keras.utils import np_utils \n",
    "import keras\n",
    "import warnings\n",
    "warnings.filterwarnings('ignore')"
   ]
  },
  {
   "cell_type": "code",
   "execution_count": 4,
   "metadata": {},
   "outputs": [
    {
     "name": "stdout",
     "output_type": "stream",
     "text": [
      "Loaded the model.\n"
     ]
    }
   ],
   "source": [
    "# モデルの読込\n",
    "# 保存したjsonファイルとhdf5ファイルを読み込む。モデルを学習に使うにはcompileが必要。\n",
    "from keras.models import model_from_json\n",
    "\n",
    "# JSON形式のデータを読み込んでモデルとして復元。学習で使うにはまたコンパイルが必要なので注意。\n",
    "with open('coin_cal.model', 'r') as f:\n",
    "    json_string = f.read()\n",
    "model = model_from_json(json_string)\n",
    "\n",
    "# モデルにパラメータを読み込む。前回の学習状態を引き継げる。\n",
    "model.load_weights('param.hdf5')\n",
    "print('Loaded the model.')"
   ]
  },
  {
   "cell_type": "code",
   "execution_count": null,
   "metadata": {},
   "outputs": [],
   "source": [
    "import cv2\n",
    "import matplotlib.pyplot as plt\n",
    "import math\n",
    "\n",
    "#画像からコインを抽出する関数を定義\n",
    "def cut(in_img):\n",
    "    img = cv2.imread(in_img)\n",
    "    \n",
    "    plt.imshow(img)\n",
    "    plt.show()\n",
    "    \n",
    "    gray_img = cv2.cvtColor(img, cv2.COLOR_RGB2GRAY)\n",
    "    gray_img = cv2.GaussianBlur(gray_img, (7,7), 0)\n",
    "    ret, bw_img = cv2.threshold(gray_img, 0, 255, cv2.THRESH_OTSU)\n",
    "\n",
    "    imgEdge, contours, hierarchy = cv2.findContours(bw_img, cv2.RETR_EXTERNAL, cv2.CHAIN_APPROX_SIMPLE)\n",
    "\n",
    "    ROUNDNESS_THRESH = 0.9\n",
    "    coin_list = []\n",
    "    for contour in contours:\n",
    "        x, y, width, height = cv2.boundingRect(contour)\n",
    "        area = cv2.contourArea(contour)\n",
    "        longAx = width\n",
    "        if (width < height):\n",
    "            longAx = height\n",
    "        roundness = (4*area)/(math.pi*(longAx**2)) # it seems like a circle closer to 1.0\n",
    "\n",
    "        if (roundness > ROUNDNESS_THRESH):\n",
    "            coin_list.append(roundness)\n",
    "            topleft = x\n",
    "            \n",
    "            cut_img = img[y:y+longAx, x:x+longAx]\n",
    "            \n",
    "            cut_img2 = cv2.resize(cut_img , (128, 128))\n",
    "            \n",
    "            plt.imshow(cut_img2)\n",
    "            plt.show()\n",
    "            \n",
    "            cv2.imwrite('result%d.jpg'%(len(coin_list)), cut_img2)\n",
    "            cv2.rectangle(img, (x, y), (x+width, y+height), (0, 0, 200), 2)\n",
    "            \n",
    "    plt.imshow(img)\n",
    "    plt.show()\n",
    "    cv2.imwrite('sample_result.jpg', img)\n",
    "    \n",
    "    return len(coin_list)"
   ]
  },
  {
   "cell_type": "code",
   "execution_count": null,
   "metadata": {},
   "outputs": [],
   "source": [
    "import numpy as np\n",
    "\n",
    "#計算\n",
    "def coin_cal(img):\n",
    "    #画像を入力\n",
    "    N = cut(img)\n",
    "    print('%d枚の硬貨があります。'%N)\n",
    "    \n",
    "    #X作成\n",
    "    in_X = np.empty((0, 128, 128, 3))\n",
    "    for i in range(N):\n",
    "        img = cv2.imread('result%d.jpg'%(i+1))\n",
    "        img = np.array([img])\n",
    "        in_X = np.concatenate((in_X, img), axis=0)\n",
    "    \n",
    "    #予測\n",
    "    y = np.empty((0, 1))\n",
    "    for index in range(N):\n",
    "        pred = model.predict(in_X[index].reshape(1, 128, 128,3)).argmax()\n",
    "        y = np.concatenate((y, [[pred]]), axis=0)\n",
    "    y = np.where(y == 5, 500, y)\n",
    "    y = np.where(y == 4, 100, y)\n",
    "    y = np.where(y == 3, 50, y)\n",
    "    y = np.where(y == 2, 10, y)\n",
    "    y = np.where(y == 1, 5, y)\n",
    "    y = np.where(y == 0, 1, y)\n",
    "    \n",
    "    #予測を出力\n",
    "    sum = 0\n",
    "\n",
    "    for index in range(N):\n",
    "        plt.imshow(in_X[index]/256)\n",
    "        plt.show()\n",
    "        print('これは%d円です'%y[index])\n",
    "        sum = sum + y[index]\n",
    "\n",
    "    print('全部で%d円です'%sum)"
   ]
  },
  {
   "cell_type": "code",
   "execution_count": null,
   "metadata": {},
   "outputs": [],
   "source": []
  }
 ],
 "metadata": {
  "kernelspec": {
   "display_name": "Python 3",
   "language": "python",
   "name": "python3"
  },
  "language_info": {
   "codemirror_mode": {
    "name": "ipython",
    "version": 3
   },
   "file_extension": ".py",
   "mimetype": "text/x-python",
   "name": "python",
   "nbconvert_exporter": "python",
   "pygments_lexer": "ipython3",
   "version": "3.6.5"
  }
 },
 "nbformat": 4,
 "nbformat_minor": 2
}
